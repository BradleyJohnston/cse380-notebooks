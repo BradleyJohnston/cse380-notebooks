{
  "nbformat": 4,
  "nbformat_minor": 0,
  "metadata": {
    "kernelspec": {
      "display_name": "Python 3",
      "language": "python",
      "name": "python3"
    },
    "language_info": {
      "codemirror_mode": {
        "name": "ipython",
        "version": 3
      },
      "file_extension": ".py",
      "mimetype": "text/x-python",
      "name": "python",
      "nbconvert_exporter": "python",
      "pygments_lexer": "ipython3",
      "version": "3.9.0"
    },
    "colab": {
      "name": "ponder_and_prove_combinatorics_and_probability.ipynb",
      "provenance": []
    }
  },
  "cells": [
    {
      "cell_type": "markdown",
      "metadata": {
        "id": "UrOHIm2Vqteq"
      },
      "source": [
        "# Ponder and Prove Combinatorics and Probability\n",
        "#### Due: Saturday, 6 February 2021, 11:59 pm."
      ]
    },
    {
      "cell_type": "markdown",
      "metadata": {
        "id": "ffNEwflIqtev"
      },
      "source": [
        "## Conjecture\n",
        "\n",
        "A number-theoretic conjecture of combinatorial significance is the following:\n",
        "\n",
        "$degree2({2n \\choose n}) =$ the \"bits-on count\" (or population count, or Hamming weight) of $n$.\n",
        "\n",
        "$degree2(m)$ is defined as the number (degree, exponent) of 2's in the prime factorization of $m$.\n",
        "\n",
        "In other words, for any $m$, a positive integer, $m = 2^e \\cdot o$ where $o$ is an odd positive integer (could be 1) and $e$ is a natural number, including zero --- which would be the case when $m$ is odd. It's the $e$ that is the $degree2$ of $m$.\n",
        "\n",
        "Another way to state this conjecture is that the number of 1's in the binary expansion of ${2n \\choose n}$ for positive integer $n$ is equal to the number of 2's in the prime factorization of $n$.\n",
        "\n",
        "Your task is to write Python code to test this conjecture for as many positive integers as you can. See the self-assessment for more details.\n",
        "\n",
        "Note: a `bitsoncount` function can be a one-liner in Python: `return bin(x).count('1')`\n",
        "\n"
      ]
    },
    {
      "cell_type": "code",
      "metadata": {
        "id": "qWfGa8TbrA0x"
      },
      "source": [
        "from math import pow\r\n",
        "\r\n",
        "def degree2(m):\r\n",
        "  e = 1\r\n",
        "  o = 0\r\n",
        "  var = 0\r\n",
        "\r\n",
        "  # m is odd\r\n",
        "  if m % 2 == 1:\r\n",
        "    e = 0\r\n",
        "    var = pow(2, e)\r\n",
        "    o = m\r\n",
        "    return (e, o)\r\n",
        "  \r\n",
        "  # m is even\r\n",
        "  else:\r\n",
        "    for i in range(m):\r\n",
        "      for j in range(m):\r\n",
        "        if m == (pow(2, i) * j):\r\n",
        "          e = i\r\n",
        "          o = j\r\n",
        "          return (e, o)\r\n",
        "  \r\n",
        "  # return a fail case\r\n",
        "  return (-1, -1)\r\n",
        "\r\n",
        "array = []\r\n",
        "\r\n",
        "for i in range(1, 99999):\r\n",
        "  array.append(degree2(i))\r\n",
        "\r\n",
        "if (-1, -1) in array:\r\n",
        "  print(\"Had a failure at {}\".format(array.index((-1, -1))))\r\n",
        "\r\n",
        "print(array)"
      ],
      "execution_count": null,
      "outputs": []
    },
    {
      "cell_type": "markdown",
      "metadata": {
        "id": "FIAt_2cyqtew"
      },
      "source": [
        "## Basic Probability Theory Question\n",
        "A dark room contains two barrels. The first barrel is filled with green marbles, the second is filled with a half-and-half mixture of green and blue marbles. So there's a 100% chance of choosing a green marble from the first barrel, and a 50% chance of choosing either color in the second barrel. You reach into one of the barrels (it's dark so you don't know which one) and select a marble at random. It's green. You select another. It's green too. You select a third, a fourth, a fifth, etc. Green each time. What is the *minimum* number of marbles you need to select to *exceed* a probability of 99% that you are picking them out of the all-green barrel? (Note that there are enough marbles so that the answer does not depend on how many marbles are in the second barrel.)\n"
      ]
    },
    {
      "cell_type": "markdown",
      "metadata": {
        "id": "0znld_WCuFz1"
      },
      "source": [
        "In order to determine that we are picking from the entirely green barrel with a 99% certainty. We need to draw 7 marbles. This is because every time we draw a marble from the half and half barrel there is a 50% chance of either color. So with that we take 1 - (.5 ^ n) where n is the number of marbles drawn. With this information we wrote the code below to easily calculate this for us.\r\n",
        "\r\n"
      ]
    },
    {
      "cell_type": "code",
      "metadata": {
        "id": "W3l2_GlmuGpv",
        "outputId": "2b33ba94-abc7-4692-acc6-88a8e473bf13",
        "colab": {
          "base_uri": "https://localhost:8080/"
        }
      },
      "source": [
        "for i in range(100):\r\n",
        "  if 1 - pow(.5, i) > .99:\r\n",
        "    print(i)\r\n",
        "    break"
      ],
      "execution_count": 13,
      "outputs": [
        {
          "output_type": "stream",
          "text": [
            "7\n"
          ],
          "name": "stdout"
        }
      ]
    },
    {
      "cell_type": "markdown",
      "metadata": {
        "id": "26skehd7qtew"
      },
      "source": [
        "## A Related But Deeper Basic Probability Theory Question\n",
        "Take a deep breath. Suppose Shakespeare's account is accurate and Julius Caesar gasped \"You too, Brutus\" before breathing his last. What is the probability that you just inhaled a molecule that Julius Caesar exhaled in his dying breath?\n",
        "\n",
        "Assume that after more than two thousand years the exhaled molecules are uniformly spread about the world and the vast majority are still free in the atmosphere. Assume further that there are $10^{44}$ molecules of air in the world, and that your inhaled quantity and Caesar's exhaled quantity were each about $2.2 \\times 10^{22}$ molecules.\n",
        "### Hint\n",
        "If a number $x$ is small, then $(1 - x)$ is approximately equal to $e^{-x}$.\n"
      ]
    },
    {
      "cell_type": "markdown",
      "metadata": {
        "id": "6Pa_E-eFvdHl"
      },
      "source": [
        "2.2 * 10^22 / 10^44 = (2.2 * 10 ^ -22) * 100%\r\n",
        "\r\n",
        "1 - ((2.2 * 10^-22)^(2.2 * 10^22))\r\n",
        "e ^ - ((2.2 * 10^-22)^(2.2 * 10^22))"
      ]
    },
    {
      "cell_type": "code",
      "metadata": {
        "id": "d4MPGOXHxViO"
      },
      "source": [
        ""
      ],
      "execution_count": null,
      "outputs": []
    },
    {
      "cell_type": "markdown",
      "metadata": {
        "id": "x7oJH79Nqtew"
      },
      "source": [
        "## What is True?\n",
        "Assess yourself on how you did using the checkboxes below. Check a box by putting an 'X' in it only if it is warranted.\n"
      ]
    },
    {
      "cell_type": "markdown",
      "metadata": {
        "id": "DsTCQFVSqtex"
      },
      "source": [
        "### What is true of my experience in general?\n",
        "(5 points each, 15 points total)\n",
        "- [ ] I had fun.\n",
        "- [ ] I learned something new.\n",
        "- [ ] I achieved something meaningful, or something I can build upon at a later time."
      ]
    },
    {
      "cell_type": "markdown",
      "metadata": {
        "id": "XELnewYEqtex"
      },
      "source": [
        "### What is true of my report on what I learned?\n",
        "(5 points each, 25 points total)\n",
        "- [ ] I wrote a sufficient number of well-written sentences.\n",
        "- [ ] My report is free of \"mechanical infelicities\" (misspelled words, grammatical errors, punctuation errors, etc.).\n",
        "- [ ] I reported on any connections I found between this investigation and something I already know.\n",
        "- [ ] I reported who were and what contribution each of my collaborators made.\n",
        "- [ ] I reported on how many numbers I was able to verify with a time/computation budget of 24 hours (in a row).\n"
      ]
    },
    {
      "cell_type": "markdown",
      "metadata": {
        "id": "A6mGInQUqtex"
      },
      "source": [
        "### What is true about my answers?\n",
        "(15 points each, 60 points total)\n",
        "- [ ] I figured out how to run a Python program continuously for at least 24 hours.\n",
        "- [ ] I refrained from printing out anything except the highest number I verified, knowing that printing just slows a program down.\n",
        "- [ ] I got the right answer for the first probability theory question.\n",
        "- [ ] I got the right answer for the second probability theory question.\n"
      ]
    },
    {
      "cell_type": "code",
      "metadata": {
        "id": "2EZGZdmMqtex"
      },
      "source": [
        ""
      ],
      "execution_count": null,
      "outputs": []
    }
  ]
}