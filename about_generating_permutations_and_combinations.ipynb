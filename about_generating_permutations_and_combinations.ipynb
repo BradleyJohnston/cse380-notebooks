{
  "nbformat": 4,
  "nbformat_minor": 0,
  "metadata": {
    "kernelspec": {
      "display_name": "Python 3",
      "language": "python",
      "name": "python3"
    },
    "language_info": {
      "codemirror_mode": {
        "name": "ipython",
        "version": 3
      },
      "file_extension": ".py",
      "mimetype": "text/x-python",
      "name": "python",
      "nbconvert_exporter": "python",
      "pygments_lexer": "ipython3",
      "version": "3.9.0"
    },
    "colab": {
      "name": "about_generating_permutations_and_combinations.ipynb",
      "provenance": []
    }
  },
  "cells": [
    {
      "cell_type": "markdown",
      "metadata": {
        "id": "mO2LIPdW_fMt"
      },
      "source": [
        "# About Generating Permutations and Combinations\n",
        "## Divide Pair Conquer\n",
        "### Due: Monday, 1 February 2021, 11:59pm\n"
      ]
    },
    {
      "cell_type": "markdown",
      "metadata": {
        "id": "GLK5vQaV_fMz"
      },
      "source": [
        "There are many occasions when you need to *generate* the permutations or\n",
        "combinations of a set, not just count them.\n",
        "\n",
        "There are many algorithms for generating permutations and combinations --- you\n",
        "can find them if you look.\n",
        "\n",
        "For an application, from a biographical sketch about Donald Knuth by Kenneth\n",
        "Rosen, we learn that\n"
      ]
    },
    {
      "cell_type": "markdown",
      "metadata": {
        "id": "H2LBc-b6_fM0"
      },
      "source": [
        "> \"Knuth grew up in Milwaukee, where his father taught bookkeeping at a Lutheran\n",
        "high school and owned a small printing business. He was an excellent student,\n",
        "earning academic achievement awards. He applied his intelligence in\n",
        "unconventional ways, winning a contest when he was in the eighth grade by\n",
        "finding as many words as possible that could be formed from the letters in\n",
        "\n",
        "---\n",
        "\n",
        "> **Ziegler's Giant Bar**.\n",
        "\n",
        "___\n",
        "\n",
        "> This won a television set for his school and a candy bar for everyone in his class.\n"
      ]
    },
    {
      "cell_type": "code",
      "metadata": {
        "id": "57-LiM5i_gAm"
      },
      "source": [
        "\r\n",
        "\r\n",
        "from math import ceil\r\n",
        "from math import pow\r\n",
        "from nltk.corpus import words\r\n",
        "import nltk\r\n",
        "\r\n",
        "nltk.download('words')\r\n",
        "\r\n",
        "# Create a dictionary of dictionary of letter counts\r\n",
        "# in a word to an array of words that can be made\r\n",
        "# with that combination of letters\r\n",
        "def get_letter_dict(word):\r\n",
        "  alphabet = \"abcdefghijklmnopqrstuvwxyz\"\r\n",
        "  letter_count = {}\r\n",
        "\r\n",
        "  for letter in alphabet:\r\n",
        "    letter_count[letter] = 0\r\n",
        "\r\n",
        "  for letter in word.lower():\r\n",
        "    if letter in alphabet:\r\n",
        "      letter_count[letter] += 1\r\n",
        "  \r\n",
        "  return letter_count\r\n",
        "\r\n",
        "# for every word in the english language\r\n",
        "# create a dictionary of the number of times\r\n",
        "# each language shows up and add that word\r\n",
        "# to that key in the dictionary\r\n",
        "def index_dictionary():\r\n",
        "  \r\n",
        "  # Return Var\r\n",
        "  var = {}\r\n",
        "  # Dictionary of english words\r\n",
        "  array = words.words()\r\n",
        "\r\n",
        "  # for every word in the english language\r\n",
        "  # create a dictionary of the number of times\r\n",
        "  # each language shows up and add that word\r\n",
        "  # to that key in the dictionary\r\n",
        "  for word in array:\r\n",
        "    letter_list = get_letter_dict(word)\r\n",
        "    if letter_list in var.keys():\r\n",
        "      var[letter_list].append(word)\r\n",
        "    else:\r\n",
        "      var[letter_list] = [word]\r\n",
        "    \r\n",
        "    return var\r\n",
        "\r\n",
        "def get_combinations_of_string(input_var):\r\n",
        "  \r\n",
        "  # normalize the string\r\n",
        "  alphabet = \"abcdefghijklmnopqrstuvwxyz\"\r\n",
        "  var = \"\"\r\n",
        "  \r\n",
        "  for letter in input_var.lower():\r\n",
        "    if letter in alphabet:\r\n",
        "      var += letter\r\n",
        "  \r\n",
        "  \r\n",
        "  number_of_combinations = int(ceil(pow(2, len(var))))\r\n",
        "  bin_string = \"{0:b}\".format(int(ceil(number_of_combinations)))\r\n",
        "\r\n",
        "  new_word = \"\"\r\n",
        "  array_of_combinations = []\r\n",
        "\r\n",
        "  for count in range(number_of_combinations):\r\n",
        "      for i, j in zip(var, bin_string):\r\n",
        "        if j == '1' or j == \"1\":\r\n",
        "          new_word += j\r\n",
        "      buffer = get_letter_dict(new_word)\r\n",
        "      if not buffer in array_of_combinations:\r\n",
        "        array_of_combinations.append(buffer)\r\n",
        "  \r\n",
        "  return array_of_combinations\r\n",
        "\r\n",
        "#array_of_words = get_combinations_of_string(\"Ziegler's Giant Bar\")\r\n",
        "print(\"Done making combos\")\r\n",
        "indexed_dictionary = index_dictionary()\r\n",
        "print(\"Done indexing dictionary\")\r\n",
        "word_list = []\r\n",
        "\r\n",
        "for combination in array_of_words:\r\n",
        "  if combination in indexed_dictionary:\r\n",
        "    array = indexed_dictionary[combination]\r\n",
        "    for element in array:\r\n",
        "      word_list.append(element)\r\n",
        "print(\"Done with program, exiting out\")\r\n",
        "\r\n",
        "print(len(word_list))\r\n",
        "file = open('word_list.txt', w)\r\n",
        "\r\n",
        "for word in word_list:\r\n",
        "  file.write(word + '\\n')"
      ],
      "execution_count": null,
      "outputs": []
    },
    {
      "cell_type": "markdown",
      "metadata": {
        "id": "ZaH1QdoB_fM0"
      },
      "source": [
        "Knuth found over 4500 words. How many can **you** find?"
      ]
    }
  ]
}